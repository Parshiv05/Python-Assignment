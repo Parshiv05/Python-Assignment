{
 "cells": [
  {
   "cell_type": "markdown",
   "id": "4657860a-d2fa-41fc-9141-5f37bef4b3e1",
   "metadata": {},
   "source": [
    "(i) Write a function that takes input from users and return data entered by user as a list. Your function should ensure the values given by user are integer. You can ask user how many values to enter."
   ]
  },
  {
   "cell_type": "code",
   "execution_count": 2,
   "id": "f2b06184-f311-4bc3-b72c-4d4f8cd154e8",
   "metadata": {},
   "outputs": [
    {
     "name": "stdin",
     "output_type": "stream",
     "text": [
      "How many values would you like to enter?  4\n",
      "Enter integer value 1:  2\n",
      "Enter integer value 2:  3\n",
      "Enter integer value 3:  4\n",
      "Enter integer value 4:  5\n"
     ]
    },
    {
     "name": "stdout",
     "output_type": "stream",
     "text": [
      "Values entered: [2, 3, 4, 5]\n"
     ]
    }
   ],
   "source": [
    "def get_integer_list():\n",
    "    \n",
    "    #Ask the user how many values they want to enter\n",
    "    while True:\n",
    "        try:\n",
    "            count = int(input(\"How many values would you like to enter? \"))\n",
    "            if count <= 0:\n",
    "                print(\"Please enter a positive number.\")\n",
    "                continue\n",
    "            break\n",
    "        except ValueError:\n",
    "            print(\"Invalid input. Please enter an integer.\")\n",
    "\n",
    "    #Initialize an empty list to store the integers\n",
    "    integer_list = []\n",
    "\n",
    "    #Prompt the user to enter the specified number of values\n",
    "    for i in range(count):\n",
    "        while True:\n",
    "            try:\n",
    "                value = int(input(f\"Enter integer value {i + 1}: \"))\n",
    "                integer_list.append(value)\n",
    "                break\n",
    "            except ValueError:\n",
    "                print(\"Invalid input. Please enter an integer.\")\n",
    "\n",
    "    return integer_list\n",
    "\n",
    "#Example usage of the function\n",
    "values = get_integer_list()\n",
    "print(\"Values entered:\", values)\n"
   ]
  },
  {
   "cell_type": "markdown",
   "id": "2cb6f3d0-4792-4a75-b2e4-ac270cfe8826",
   "metadata": {},
   "source": [
    "(ii) Write a function that takes one input argument, the input argument should a list, this function computes sum, average, minimum, maximum and cummulative sum and return these values. Now use these(Both) functions first to take input from user and second to compute sum, average, minimum, maximum and cummulative sum"
   ]
  },
  {
   "cell_type": "code",
   "execution_count": 4,
   "id": "928ee5dd-b22e-4ed4-8384-604556c652a8",
   "metadata": {},
   "outputs": [
    {
     "name": "stdin",
     "output_type": "stream",
     "text": [
      "How many values would you like to enter?  4\n",
      "Enter integer value 1:  \n"
     ]
    },
    {
     "name": "stdout",
     "output_type": "stream",
     "text": [
      "Invalid input. Please enter an integer.\n"
     ]
    },
    {
     "name": "stdin",
     "output_type": "stream",
     "text": [
      "Enter integer value 1:  12\n",
      "Enter integer value 2:  32\n",
      "Enter integer value 3:  12\n",
      "Enter integer value 4:  33\n"
     ]
    },
    {
     "name": "stdout",
     "output_type": "stream",
     "text": [
      "\n",
      "Statistics:\n",
      "Sum: 89\n",
      "Average: 22.25\n",
      "Minimum: 12\n",
      "Maximum: 33\n",
      "Cumulative Sum: [12, 44, 56, 89]\n"
     ]
    }
   ],
   "source": [
    "def get_integer_list():\n",
    "    \"\"\"\n",
    "    Function to take input from the user and return the data as a list of integers.\n",
    "    It asks the user how many values they want to enter and ensures the values are integers.\n",
    "    \"\"\"\n",
    "    # Ask the user how many values they want to enter\n",
    "    while True:\n",
    "        try:\n",
    "            count = int(input(\"How many values would you like to enter? \"))\n",
    "            if count <= 0:\n",
    "                print(\"Please enter a positive number.\")\n",
    "                continue\n",
    "            break\n",
    "        except ValueError:\n",
    "            print(\"Invalid input. Please enter an integer.\")\n",
    "\n",
    "    # Initialize an empty list to store the integers\n",
    "    integer_list = []\n",
    "\n",
    "    # Prompt the user to enter the specified number of values\n",
    "    for i in range(count):\n",
    "        while True:\n",
    "            try:\n",
    "                value = int(input(f\"Enter integer value {i + 1}: \"))\n",
    "                integer_list.append(value)\n",
    "                break\n",
    "            except ValueError:\n",
    "                print(\"Invalid input. Please enter an integer.\")\n",
    "\n",
    "    return integer_list\n",
    "\n",
    "\n",
    "def compute_statistics(numbers):\n",
    "   \n",
    "    if not numbers:\n",
    "        return 0, 0, None, None, []\n",
    "\n",
    "    total_sum = sum(numbers)\n",
    "    average = total_sum / len(numbers)\n",
    "    minimum = min(numbers)\n",
    "    maximum = max(numbers)\n",
    "\n",
    "    cumulative_sum = []\n",
    "    current_sum = 0\n",
    "    for num in numbers:\n",
    "        current_sum += num\n",
    "        cumulative_sum.append(current_sum)\n",
    "\n",
    "    return total_sum, average, minimum, maximum, cumulative_sum\n",
    "\n",
    "\n",
    "#Step 1: Get the list of integers from the use\n",
    "values = get_integer_list()\n",
    "\n",
    "#Step 2: Compute sum, average, min, max, and cumulative sum\n",
    "total_sum, average, minimum, maximum, cumulative_sum = compute_statistics(values)\n",
    "\n",
    "#Display the results\n",
    "print(\"\\nStatistics:\")\n",
    "print(f\"Sum: {total_sum}\")\n",
    "print(f\"Average: {average}\")\n",
    "print(f\"Minimum: {minimum}\")\n",
    "print(f\"Maximum: {maximum}\")\n",
    "print(f\"Cumulative Sum: {cumulative_sum}\")\n"
   ]
  },
  {
   "cell_type": "code",
   "execution_count": null,
   "id": "c08a6c2b-b713-4b78-8ead-bed43fd1d3ca",
   "metadata": {},
   "outputs": [],
   "source": []
  }
 ],
 "metadata": {
  "kernelspec": {
   "display_name": "Python 3 (ipykernel)",
   "language": "python",
   "name": "python3"
  },
  "language_info": {
   "codemirror_mode": {
    "name": "ipython",
    "version": 3
   },
   "file_extension": ".py",
   "mimetype": "text/x-python",
   "name": "python",
   "nbconvert_exporter": "python",
   "pygments_lexer": "ipython3",
   "version": "3.12.4"
  }
 },
 "nbformat": 4,
 "nbformat_minor": 5
}
